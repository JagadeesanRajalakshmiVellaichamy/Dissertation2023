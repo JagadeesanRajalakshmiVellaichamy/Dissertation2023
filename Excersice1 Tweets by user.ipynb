{
 "cells": [
  {
   "cell_type": "markdown",
   "id": "5b35047b",
   "metadata": {},
   "source": [
    "# Twitter API to extract Tweets"
   ]
  },
  {
   "cell_type": "code",
   "execution_count": 3,
   "id": "b4b97637",
   "metadata": {},
   "outputs": [
    {
     "name": "stdout",
     "output_type": "stream",
     "text": [
      "<tweepy.api.API object at 0x0000017A670AB310>\n",
      "union from:DaniQuietNow\n",
      "Status Failed On, 403 Forbidden\n",
      "453 - You currently have access to a subset of Twitter API v2 endpoints and limited v1.1 endpoints (e.g. media post, oauth) only. If you need access to this endpoint, you may need a different access level. You can learn more here: https://developer.twitter.com/en/portal/product\n"
     ]
    }
   ],
   "source": [
    "#Excercise to read tweets via twitter API\n",
    "import tweepy\n",
    "import pandas as pd\n",
    "\n",
    "#Twitter API credentials\n",
    "consumer_key = \"YD1TLHgyRNAYvDhRt8FqqVXa0\"\n",
    "consumer_secret = \"Pp5H8VH5GBx8LjqfPtZ8cWLBH4hxHcCf6tTW3nU6EcfjhkR7Kj\"\n",
    "access_token = \"1668994274669522944-zvRnTzCe9reA9WWxphHDwLMgC7b4id\"\n",
    "access_token_secret = \"L5iJMefmNn3wrjTvhlnm1yz6syx3kICDRbHM7mHwPuBoD\"\n",
    "\n",
    "#Twitter API\n",
    "TwitterAuth = tweepy.OAuth1UserHandler(consumer_key, consumer_secret,access_token, access_token_secret)\n",
    "\n",
    "TwitterAPI = tweepy.API(TwitterAuth, wait_on_rate_limit=True)\n",
    "print(TwitterAPI)\n",
    "\n",
    "#user account and keywords\n",
    "screen_name = \"DaniQuietNow\"\n",
    "search_query = \"union from:\" + screen_name\n",
    "print(search_query)\n",
    "tweets = 100\n",
    "\n",
    "try:\n",
    "    #Tweets based on search criteria\n",
    "    tweets_response = TwitterAPI.search_tweets(q=search_query, lang=\"en\", count=tweets, tweet_mode ='extended')\n",
    "    \n",
    "    #Extract attributes\n",
    "    attributes_container = [[tweet.user.name, tweet.created_at, tweet.favorite_count, tweet.source, tweet.full_text] for tweet in tweets_response]\n",
    "\n",
    "    col = [\"User\", \"Date Created\", \"Number of Likes\", \"Source of Tweet\", \"Tweet\"]\n",
    "    \n",
    "    Final_df = pd.DataFrame(attributes_container, columns=col)\n",
    "except BaseException as e:\n",
    "    print('Status Failed On,',str(e))"
   ]
  }
 ],
 "metadata": {
  "kernelspec": {
   "display_name": "Python 3 (ipykernel)",
   "language": "python",
   "name": "python3"
  },
  "language_info": {
   "codemirror_mode": {
    "name": "ipython",
    "version": 3
   },
   "file_extension": ".py",
   "mimetype": "text/x-python",
   "name": "python",
   "nbconvert_exporter": "python",
   "pygments_lexer": "ipython3",
   "version": "3.10.9"
  }
 },
 "nbformat": 4,
 "nbformat_minor": 5
}
